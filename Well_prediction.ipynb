{
 "nbformat": 4,
 "nbformat_minor": 2,
 "metadata": {
  "language_info": {
   "name": "python",
   "codemirror_mode": {
    "name": "ipython",
    "version": 3
   },
   "version": "3.7.6-final"
  },
  "orig_nbformat": 2,
  "file_extension": ".py",
  "mimetype": "text/x-python",
  "name": "python",
  "npconvert_exporter": "python",
  "pygments_lexer": "ipython3",
  "version": 3,
  "kernelspec": {
   "name": "python37664bit750ca1dc6f8c4a69a34fb4156550fb04",
   "display_name": "Python 3.7.6 64-bit"
  }
 },
 "cells": [
  {
   "cell_type": "markdown",
   "execution_count": null,
   "metadata": {},
   "outputs": [],
   "source": [
    "### This is project is to predict the wellhead pressure and flow pattern within the well"
   ]
  },
  {
   "cell_type": "code",
   "execution_count": 4,
   "metadata": {},
   "outputs": [],
   "source": [
    "import itertools\n",
    "import numpy as np\n",
    "import matplotlib.pyplot as plt\n",
    "\n",
    "import pandas as pd\n",
    "import numpy as np\n",
    "\n",
    "from sklearn import preprocessing\n",
    "\n",
    "import tensorflow as tf\n",
    "from tensorflow import keras\n",
    "from tensorflow.keras import datasets, layers, models\n",
    "\n",
    "%matplotlib inline"
   ]
  },
  {
   "cell_type": "code",
   "execution_count": 37,
   "metadata": {},
   "outputs": [],
   "source": [
    "df=pd.read_csv('simple_well1.csv')"
   ]
  },
  {
   "cell_type": "code",
   "execution_count": 38,
   "metadata": {},
   "outputs": [
    {
     "data": {
      "text/html": "<div>\n<style scoped>\n    .dataframe tbody tr th:only-of-type {\n        vertical-align: middle;\n    }\n\n    .dataframe tbody tr th {\n        vertical-align: top;\n    }\n\n    .dataframe thead th {\n        text-align: right;\n    }\n</style>\n<table border=\"1\" class=\"dataframe\">\n  <thead>\n    <tr style=\"text-align: right;\">\n      <th></th>\n      <th>Date</th>\n      <th>Gas Flow_MMSCFD</th>\n      <th>Oil_bpd</th>\n      <th>Water_bpd</th>\n      <th>FWHP_psig</th>\n      <th>FroudeNumberGas6</th>\n      <th>FroudeNumberLiquid6</th>\n      <th>HoldupFractionLiquid6</th>\n      <th>ReynoldsNumber6</th>\n      <th>SuperficialVelocityGas6</th>\n      <th>SuperficialVelocityLiquid6</th>\n      <th>SurfaceTensionLiquidInSitu6</th>\n      <th>ViscosityLiquidInSitu6</th>\n      <th>FlowPatternGasLiquid6</th>\n      <th>FINAPRESS</th>\n      <th>FINATEMP</th>\n    </tr>\n  </thead>\n  <tbody>\n    <tr>\n      <th>0</th>\n      <td>1/1/2020</td>\n      <td>2.0</td>\n      <td>480.0</td>\n      <td>4500.0</td>\n      <td>5600.0</td>\n      <td>0.079350</td>\n      <td>0.829993</td>\n      <td>0.845727</td>\n      <td>409800.7890</td>\n      <td>0.510384</td>\n      <td>2.641022</td>\n      <td>0.013319</td>\n      <td>0.273293</td>\n      <td>4</td>\n      <td>2126.376735</td>\n      <td>212.370290</td>\n    </tr>\n    <tr>\n      <th>1</th>\n      <td>1/2/2020</td>\n      <td>2.0</td>\n      <td>480.0</td>\n      <td>3450.0</td>\n      <td>5500.0</td>\n      <td>0.079880</td>\n      <td>0.669710</td>\n      <td>0.817304</td>\n      <td>334632.3328</td>\n      <td>0.507737</td>\n      <td>2.124772</td>\n      <td>0.012765</td>\n      <td>0.275990</td>\n      <td>4</td>\n      <td>2177.457559</td>\n      <td>208.752810</td>\n    </tr>\n    <tr>\n      <th>2</th>\n      <td>1/3/2020</td>\n      <td>2.0</td>\n      <td>480.0</td>\n      <td>3000.0</td>\n      <td>5400.0</td>\n      <td>0.081080</td>\n      <td>0.598358</td>\n      <td>0.797930</td>\n      <td>303566.9168</td>\n      <td>0.517678</td>\n      <td>1.900507</td>\n      <td>0.012747</td>\n      <td>0.277711</td>\n      <td>4</td>\n      <td>2168.102001</td>\n      <td>206.531840</td>\n    </tr>\n    <tr>\n      <th>3</th>\n      <td>1/4/2020</td>\n      <td>2.0</td>\n      <td>479.0</td>\n      <td>2500.0</td>\n      <td>5300.0</td>\n      <td>0.082113</td>\n      <td>0.520704</td>\n      <td>0.774212</td>\n      <td>268085.3347</td>\n      <td>0.522150</td>\n      <td>1.652199</td>\n      <td>0.012434</td>\n      <td>0.280040</td>\n      <td>4</td>\n      <td>2183.207951</td>\n      <td>203.401306</td>\n    </tr>\n    <tr>\n      <th>4</th>\n      <td>1/5/2020</td>\n      <td>2.0</td>\n      <td>479.0</td>\n      <td>2000.0</td>\n      <td>5200.0</td>\n      <td>0.082792</td>\n      <td>0.444817</td>\n      <td>0.747499</td>\n      <td>231149.3853</td>\n      <td>0.519421</td>\n      <td>1.406630</td>\n      <td>0.011781</td>\n      <td>0.283581</td>\n      <td>4</td>\n      <td>2220.778037</td>\n      <td>199.208880</td>\n    </tr>\n  </tbody>\n</table>\n</div>",
      "text/plain": "       Date  Gas Flow_MMSCFD  Oil_bpd  Water_bpd  FWHP_psig  FroudeNumberGas6  \\\n0  1/1/2020              2.0    480.0     4500.0     5600.0          0.079350   \n1  1/2/2020              2.0    480.0     3450.0     5500.0          0.079880   \n2  1/3/2020              2.0    480.0     3000.0     5400.0          0.081080   \n3  1/4/2020              2.0    479.0     2500.0     5300.0          0.082113   \n4  1/5/2020              2.0    479.0     2000.0     5200.0          0.082792   \n\n   FroudeNumberLiquid6  HoldupFractionLiquid6  ReynoldsNumber6  \\\n0             0.829993               0.845727      409800.7890   \n1             0.669710               0.817304      334632.3328   \n2             0.598358               0.797930      303566.9168   \n3             0.520704               0.774212      268085.3347   \n4             0.444817               0.747499      231149.3853   \n\n   SuperficialVelocityGas6  SuperficialVelocityLiquid6  \\\n0                 0.510384                    2.641022   \n1                 0.507737                    2.124772   \n2                 0.517678                    1.900507   \n3                 0.522150                    1.652199   \n4                 0.519421                    1.406630   \n\n   SurfaceTensionLiquidInSitu6  ViscosityLiquidInSitu6  FlowPatternGasLiquid6  \\\n0                     0.013319                0.273293                      4   \n1                     0.012765                0.275990                      4   \n2                     0.012747                0.277711                      4   \n3                     0.012434                0.280040                      4   \n4                     0.011781                0.283581                      4   \n\n     FINAPRESS    FINATEMP  \n0  2126.376735  212.370290  \n1  2177.457559  208.752810  \n2  2168.102001  206.531840  \n3  2183.207951  203.401306  \n4  2220.778037  199.208880  "
     },
     "execution_count": 38,
     "metadata": {},
     "output_type": "execute_result"
    }
   ],
   "source": [
    "df.head()"
   ]
  },
  {
   "cell_type": "code",
   "execution_count": 39,
   "metadata": {},
   "outputs": [],
   "source": [
    "df.drop(columns='Date', inplace=True)"
   ]
  },
  {
   "cell_type": "code",
   "execution_count": 40,
   "metadata": {},
   "outputs": [
    {
     "data": {
      "text/html": "<div>\n<style scoped>\n    .dataframe tbody tr th:only-of-type {\n        vertical-align: middle;\n    }\n\n    .dataframe tbody tr th {\n        vertical-align: top;\n    }\n\n    .dataframe thead th {\n        text-align: right;\n    }\n</style>\n<table border=\"1\" class=\"dataframe\">\n  <thead>\n    <tr style=\"text-align: right;\">\n      <th></th>\n      <th>Gas Flow_MMSCFD</th>\n      <th>Oil_bpd</th>\n      <th>Water_bpd</th>\n      <th>FWHP_psig</th>\n      <th>FroudeNumberGas6</th>\n      <th>FroudeNumberLiquid6</th>\n      <th>HoldupFractionLiquid6</th>\n      <th>ReynoldsNumber6</th>\n      <th>SuperficialVelocityGas6</th>\n      <th>SuperficialVelocityLiquid6</th>\n      <th>SurfaceTensionLiquidInSitu6</th>\n      <th>ViscosityLiquidInSitu6</th>\n      <th>FlowPatternGasLiquid6</th>\n      <th>FINAPRESS</th>\n      <th>FINATEMP</th>\n    </tr>\n  </thead>\n  <tbody>\n    <tr>\n      <th>0</th>\n      <td>2.0</td>\n      <td>480.0</td>\n      <td>4500.0</td>\n      <td>5600.0</td>\n      <td>0.079350</td>\n      <td>0.829993</td>\n      <td>0.845727</td>\n      <td>409800.7890</td>\n      <td>0.510384</td>\n      <td>2.641022</td>\n      <td>0.013319</td>\n      <td>0.273293</td>\n      <td>4</td>\n      <td>2126.376735</td>\n      <td>212.370290</td>\n    </tr>\n    <tr>\n      <th>1</th>\n      <td>2.0</td>\n      <td>480.0</td>\n      <td>3450.0</td>\n      <td>5500.0</td>\n      <td>0.079880</td>\n      <td>0.669710</td>\n      <td>0.817304</td>\n      <td>334632.3328</td>\n      <td>0.507737</td>\n      <td>2.124772</td>\n      <td>0.012765</td>\n      <td>0.275990</td>\n      <td>4</td>\n      <td>2177.457559</td>\n      <td>208.752810</td>\n    </tr>\n    <tr>\n      <th>2</th>\n      <td>2.0</td>\n      <td>480.0</td>\n      <td>3000.0</td>\n      <td>5400.0</td>\n      <td>0.081080</td>\n      <td>0.598358</td>\n      <td>0.797930</td>\n      <td>303566.9168</td>\n      <td>0.517678</td>\n      <td>1.900507</td>\n      <td>0.012747</td>\n      <td>0.277711</td>\n      <td>4</td>\n      <td>2168.102001</td>\n      <td>206.531840</td>\n    </tr>\n    <tr>\n      <th>3</th>\n      <td>2.0</td>\n      <td>479.0</td>\n      <td>2500.0</td>\n      <td>5300.0</td>\n      <td>0.082113</td>\n      <td>0.520704</td>\n      <td>0.774212</td>\n      <td>268085.3347</td>\n      <td>0.522150</td>\n      <td>1.652199</td>\n      <td>0.012434</td>\n      <td>0.280040</td>\n      <td>4</td>\n      <td>2183.207951</td>\n      <td>203.401306</td>\n    </tr>\n    <tr>\n      <th>4</th>\n      <td>2.0</td>\n      <td>479.0</td>\n      <td>2000.0</td>\n      <td>5200.0</td>\n      <td>0.082792</td>\n      <td>0.444817</td>\n      <td>0.747499</td>\n      <td>231149.3853</td>\n      <td>0.519421</td>\n      <td>1.406630</td>\n      <td>0.011781</td>\n      <td>0.283581</td>\n      <td>4</td>\n      <td>2220.778037</td>\n      <td>199.208880</td>\n    </tr>\n  </tbody>\n</table>\n</div>",
      "text/plain": "   Gas Flow_MMSCFD  Oil_bpd  Water_bpd  FWHP_psig  FroudeNumberGas6  \\\n0              2.0    480.0     4500.0     5600.0          0.079350   \n1              2.0    480.0     3450.0     5500.0          0.079880   \n2              2.0    480.0     3000.0     5400.0          0.081080   \n3              2.0    479.0     2500.0     5300.0          0.082113   \n4              2.0    479.0     2000.0     5200.0          0.082792   \n\n   FroudeNumberLiquid6  HoldupFractionLiquid6  ReynoldsNumber6  \\\n0             0.829993               0.845727      409800.7890   \n1             0.669710               0.817304      334632.3328   \n2             0.598358               0.797930      303566.9168   \n3             0.520704               0.774212      268085.3347   \n4             0.444817               0.747499      231149.3853   \n\n   SuperficialVelocityGas6  SuperficialVelocityLiquid6  \\\n0                 0.510384                    2.641022   \n1                 0.507737                    2.124772   \n2                 0.517678                    1.900507   \n3                 0.522150                    1.652199   \n4                 0.519421                    1.406630   \n\n   SurfaceTensionLiquidInSitu6  ViscosityLiquidInSitu6  FlowPatternGasLiquid6  \\\n0                     0.013319                0.273293                      4   \n1                     0.012765                0.275990                      4   \n2                     0.012747                0.277711                      4   \n3                     0.012434                0.280040                      4   \n4                     0.011781                0.283581                      4   \n\n     FINAPRESS    FINATEMP  \n0  2126.376735  212.370290  \n1  2177.457559  208.752810  \n2  2168.102001  206.531840  \n3  2183.207951  203.401306  \n4  2220.778037  199.208880  "
     },
     "execution_count": 40,
     "metadata": {},
     "output_type": "execute_result"
    }
   ],
   "source": [
    "df.head()"
   ]
  },
  {
   "cell_type": "code",
   "execution_count": 41,
   "metadata": {},
   "outputs": [
    {
     "data": {
      "text/plain": "2"
     },
     "execution_count": 41,
     "metadata": {},
     "output_type": "execute_result"
    }
   ],
   "source": [
    "df['FlowPatternGasLiquid6'].nunique()"
   ]
  },
  {
   "cell_type": "code",
   "execution_count": 42,
   "metadata": {},
   "outputs": [],
   "source": [
    "df2=pd.get_dummies(df['FlowPatternGasLiquid6'],prefix='FlowPattern')"
   ]
  },
  {
   "cell_type": "code",
   "execution_count": 43,
   "metadata": {},
   "outputs": [
    {
     "data": {
      "text/html": "<div>\n<style scoped>\n    .dataframe tbody tr th:only-of-type {\n        vertical-align: middle;\n    }\n\n    .dataframe tbody tr th {\n        vertical-align: top;\n    }\n\n    .dataframe thead th {\n        text-align: right;\n    }\n</style>\n<table border=\"1\" class=\"dataframe\">\n  <thead>\n    <tr style=\"text-align: right;\">\n      <th></th>\n      <th>FlowPattern_3</th>\n      <th>FlowPattern_4</th>\n    </tr>\n  </thead>\n  <tbody>\n    <tr>\n      <th>0</th>\n      <td>0</td>\n      <td>1</td>\n    </tr>\n    <tr>\n      <th>1</th>\n      <td>0</td>\n      <td>1</td>\n    </tr>\n    <tr>\n      <th>2</th>\n      <td>0</td>\n      <td>1</td>\n    </tr>\n    <tr>\n      <th>3</th>\n      <td>0</td>\n      <td>1</td>\n    </tr>\n    <tr>\n      <th>4</th>\n      <td>0</td>\n      <td>1</td>\n    </tr>\n  </tbody>\n</table>\n</div>",
      "text/plain": "   FlowPattern_3  FlowPattern_4\n0              0              1\n1              0              1\n2              0              1\n3              0              1\n4              0              1"
     },
     "execution_count": 43,
     "metadata": {},
     "output_type": "execute_result"
    }
   ],
   "source": [
    "df2.head()"
   ]
  },
  {
   "cell_type": "code",
   "execution_count": 44,
   "metadata": {},
   "outputs": [],
   "source": [
    "df=pd.concat([df,df2],axis=1)"
   ]
  },
  {
   "cell_type": "code",
   "execution_count": 45,
   "metadata": {},
   "outputs": [],
   "source": [
    "df.drop(columns='FlowPatternGasLiquid6', inplace=True)"
   ]
  },
  {
   "cell_type": "code",
   "execution_count": 46,
   "metadata": {},
   "outputs": [
    {
     "data": {
      "text/html": "<div>\n<style scoped>\n    .dataframe tbody tr th:only-of-type {\n        vertical-align: middle;\n    }\n\n    .dataframe tbody tr th {\n        vertical-align: top;\n    }\n\n    .dataframe thead th {\n        text-align: right;\n    }\n</style>\n<table border=\"1\" class=\"dataframe\">\n  <thead>\n    <tr style=\"text-align: right;\">\n      <th></th>\n      <th>Gas Flow_MMSCFD</th>\n      <th>Oil_bpd</th>\n      <th>Water_bpd</th>\n      <th>FWHP_psig</th>\n      <th>FroudeNumberGas6</th>\n      <th>FroudeNumberLiquid6</th>\n      <th>HoldupFractionLiquid6</th>\n      <th>ReynoldsNumber6</th>\n      <th>SuperficialVelocityGas6</th>\n      <th>SuperficialVelocityLiquid6</th>\n      <th>SurfaceTensionLiquidInSitu6</th>\n      <th>ViscosityLiquidInSitu6</th>\n      <th>FINAPRESS</th>\n      <th>FINATEMP</th>\n      <th>FlowPattern_3</th>\n      <th>FlowPattern_4</th>\n    </tr>\n  </thead>\n  <tbody>\n    <tr>\n      <th>0</th>\n      <td>2.0</td>\n      <td>480.0</td>\n      <td>4500.0</td>\n      <td>5600.0</td>\n      <td>0.079350</td>\n      <td>0.829993</td>\n      <td>0.845727</td>\n      <td>409800.7890</td>\n      <td>0.510384</td>\n      <td>2.641022</td>\n      <td>0.013319</td>\n      <td>0.273293</td>\n      <td>2126.376735</td>\n      <td>212.370290</td>\n      <td>0</td>\n      <td>1</td>\n    </tr>\n    <tr>\n      <th>1</th>\n      <td>2.0</td>\n      <td>480.0</td>\n      <td>3450.0</td>\n      <td>5500.0</td>\n      <td>0.079880</td>\n      <td>0.669710</td>\n      <td>0.817304</td>\n      <td>334632.3328</td>\n      <td>0.507737</td>\n      <td>2.124772</td>\n      <td>0.012765</td>\n      <td>0.275990</td>\n      <td>2177.457559</td>\n      <td>208.752810</td>\n      <td>0</td>\n      <td>1</td>\n    </tr>\n    <tr>\n      <th>2</th>\n      <td>2.0</td>\n      <td>480.0</td>\n      <td>3000.0</td>\n      <td>5400.0</td>\n      <td>0.081080</td>\n      <td>0.598358</td>\n      <td>0.797930</td>\n      <td>303566.9168</td>\n      <td>0.517678</td>\n      <td>1.900507</td>\n      <td>0.012747</td>\n      <td>0.277711</td>\n      <td>2168.102001</td>\n      <td>206.531840</td>\n      <td>0</td>\n      <td>1</td>\n    </tr>\n    <tr>\n      <th>3</th>\n      <td>2.0</td>\n      <td>479.0</td>\n      <td>2500.0</td>\n      <td>5300.0</td>\n      <td>0.082113</td>\n      <td>0.520704</td>\n      <td>0.774212</td>\n      <td>268085.3347</td>\n      <td>0.522150</td>\n      <td>1.652199</td>\n      <td>0.012434</td>\n      <td>0.280040</td>\n      <td>2183.207951</td>\n      <td>203.401306</td>\n      <td>0</td>\n      <td>1</td>\n    </tr>\n    <tr>\n      <th>4</th>\n      <td>2.0</td>\n      <td>479.0</td>\n      <td>2000.0</td>\n      <td>5200.0</td>\n      <td>0.082792</td>\n      <td>0.444817</td>\n      <td>0.747499</td>\n      <td>231149.3853</td>\n      <td>0.519421</td>\n      <td>1.406630</td>\n      <td>0.011781</td>\n      <td>0.283581</td>\n      <td>2220.778037</td>\n      <td>199.208880</td>\n      <td>0</td>\n      <td>1</td>\n    </tr>\n  </tbody>\n</table>\n</div>",
      "text/plain": "   Gas Flow_MMSCFD  Oil_bpd  Water_bpd  FWHP_psig  FroudeNumberGas6  \\\n0              2.0    480.0     4500.0     5600.0          0.079350   \n1              2.0    480.0     3450.0     5500.0          0.079880   \n2              2.0    480.0     3000.0     5400.0          0.081080   \n3              2.0    479.0     2500.0     5300.0          0.082113   \n4              2.0    479.0     2000.0     5200.0          0.082792   \n\n   FroudeNumberLiquid6  HoldupFractionLiquid6  ReynoldsNumber6  \\\n0             0.829993               0.845727      409800.7890   \n1             0.669710               0.817304      334632.3328   \n2             0.598358               0.797930      303566.9168   \n3             0.520704               0.774212      268085.3347   \n4             0.444817               0.747499      231149.3853   \n\n   SuperficialVelocityGas6  SuperficialVelocityLiquid6  \\\n0                 0.510384                    2.641022   \n1                 0.507737                    2.124772   \n2                 0.517678                    1.900507   \n3                 0.522150                    1.652199   \n4                 0.519421                    1.406630   \n\n   SurfaceTensionLiquidInSitu6  ViscosityLiquidInSitu6    FINAPRESS  \\\n0                     0.013319                0.273293  2126.376735   \n1                     0.012765                0.275990  2177.457559   \n2                     0.012747                0.277711  2168.102001   \n3                     0.012434                0.280040  2183.207951   \n4                     0.011781                0.283581  2220.778037   \n\n     FINATEMP  FlowPattern_3  FlowPattern_4  \n0  212.370290              0              1  \n1  208.752810              0              1  \n2  206.531840              0              1  \n3  203.401306              0              1  \n4  199.208880              0              1  "
     },
     "execution_count": 46,
     "metadata": {},
     "output_type": "execute_result"
    }
   ],
   "source": [
    "df.head()"
   ]
  },
  {
   "cell_type": "code",
   "execution_count": 70,
   "metadata": {},
   "outputs": [],
   "source": [
    "y_pre=df['FINAPRESS']\n",
    "X_pre=df.drop(columns=['FINAPRESS','FINATEMP'], axis=1)"
   ]
  },
  {
   "cell_type": "code",
   "execution_count": 71,
   "metadata": {},
   "outputs": [],
   "source": [
    "y_hol=df['HoldupFractionLiquid6']\n",
    "X_hol=df.drop(columns=['HoldupFractionLiquid6','FINATEMP'], axis=1)"
   ]
  },
  {
   "cell_type": "code",
   "execution_count": 72,
   "metadata": {},
   "outputs": [],
   "source": [
    "y_pat=df[['FlowPattern_3','FlowPattern_4']]\n",
    "X_pat=df.drop(columns=['FlowPattern_3','FlowPattern_4','FINATEMP'], axis=1)"
   ]
  },
  {
   "cell_type": "code",
   "execution_count": null,
   "metadata": {},
   "outputs": [],
   "source": []
  }
 ]
}