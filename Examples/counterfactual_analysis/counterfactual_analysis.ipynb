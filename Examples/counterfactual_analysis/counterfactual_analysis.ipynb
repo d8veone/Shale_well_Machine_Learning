{
 "cells": [
  {
   "cell_type": "markdown",
   "metadata": {},
   "source": [
    "# Offline Estimates of Online Metrics using Causal Inference\n",
    "### Author: aarshay jain"
   ]
  },
  {
   "cell_type": "markdown",
   "metadata": {},
   "source": [
    "# Introduction / Motivation\n",
    "\n",
    "If an offline model has a better AUC (or any other ML metric) than its production counterpart, is it necessarily better for business? Does a higher AUC imply improvement in business metrics? How much improvement in AUC is good enough to justify deployment of a new model or running an A/B test?\n",
    "\n",
    "These are some of the common questions which torment ML practitioners in their daily jobs, especially when building user-facing ML products. Some common scenarios behind these concerns are:\n",
    "- ML applications are trying to drive a product which is judged by business metrics like click rates, revenue, engagement, etc. These are dependent on user feedback/interaction in some form, which is hard to estimate offline.\n",
    "- ML models are typically deployed along with some business heuristics which control how the model output translates to product action, such as which song to play or which ad to show.\n",
    "- Many applications chain predictions from multiple models to take an action. For example, the decision of which ad to show could depend on ML models for click rate predictions and demand forecasts along with business constraints like inventory and user eligibility.\n",
    "\n",
    "In such scenarios, typical ML metrics like accuracy, AUC-ROC, precision-recall, etc. for individual models are generally not enough to tell whether an offline model is a significant improvement over the model in production. A/B tests are typically used for such evaluation, but they are expensive to run both in terms of cost and time. Counterfactual evaluation techniques, inspired from causal inference literature, provide a methodology of using production logs to estimate online metrics like click rate, revenue, etc. Once we have reliable offline estimates, they act act as great first filters on offline models to help decide which ones to A/B test in production."
   ]
  },
  {
   "cell_type": "markdown",
   "metadata": {},
   "source": [
    "# Advertising Example\n",
    "\n",
    "Note: The example and following mathematical formulation used here is a sligtly toned-down version of the example used in [1]. This is not original research, but an attempt to summarize the idea with intuition along with application on simulated data.\n",
    "\n",
    "Let's take an example from the advertising world to understand this better. Consider two sides of the following scenario:\n",
    "- User side - user visits a website and receives an ad; if the user likes the ad, they click on the ad, otherwise they do not\n",
    "- Business side - an ML system receives a request with current user context and picks an ad to display\n",
    "\n",
    "This system can be defined using the following variables:\n",
    "- user-intent (u): A user visits the website with some intent. Eg, user visits amazon.com to buy a shoe\n",
    "- user-context (x): User starts browsing on the website and their activity is packaged as a context vector\n",
    "- ad inventory (c): Inventory of all ads available to show\n",
    "- bids (b): A system which bids a price per click for ads from the ad inventory\n",
    "- selected_ad (a): A final ad selected based on the bids and click estimates\n",
    "- user action (y): Binary 1 if user clicks on the shown ad and 0 otherwise\n",
    "- revenue (z): Some form of revenue ($$) generated from the interaction"
   ]
  },
  {
   "cell_type": "markdown",
   "metadata": {},
   "source": [
    "## Causal Graph\n",
    "The system with the above variables can be depicted as a causal graph as following:\n",
    "\n",
    "<img src=\"fig1-causal_graph.png\">\n",
    "\n",
    "From this graph, we can observe the dependence/relationship between different variables:\n",
    "- u,v are independent variables, also known as exogenous variables\n",
    "- x = f(u)\n",
    "- b = f(x,v)\n",
    "- a = f(x,b)\n",
    "- y = f(a,u)\n",
    "- z = f(y,b)\n",
    "\n",
    "With this understanding, we can model the join probability of the entire system as a probabilistic generative model as:\n",
    "\n",
    "$$P(w) = P(u,v).P(x|u).P(b|x,v).P(a|x,b).P(y|u,a).P(z|y)$$\n",
    "where w is the set of all variables.\n",
    "\n",
    "Intuitively, we started with independent variables and then chained more variables together following the graph, while conditioning on the variables known at the time of determining a new variable. Note that this is an acyclic graph, i.e. if a causes b, then there is no causal path from b to a."
   ]
  },
  {
   "cell_type": "markdown",
   "metadata": {},
   "source": [
    "# Modeling Interventions\n",
    "\n",
    "In this system, let's say click rate is the business metric we're trying to maximize. Click rate is defined as the proportion of advertisements clicked by users, across user sessions. Suppose we have a production system running and now we develop a new model for selecting an ad, i.e. we have a new way of implementing variable `a`. We want to estimate the click rate of this model as compared to the production model. \n",
    "\n",
    "This system of equations allows us to model interventions as algebraic manipulations i.e. we can change some interim distributions and model a different output for a given input. Refer to Pearl's do-calculus for more details."
   ]
  },
  {
   "cell_type": "markdown",
   "metadata": {},
   "source": [
    "## Isolation Assumption\n",
    "\n",
    "Before moving forward, let's understand one of the core assumptions of this model: like any causal graph, this graph assumes that the exogenous variables don't have any backdoor path into the network, i.e. there are no common cause between the exogenous variables (u,v) and other variables in the network. For example, suppose an external cause (e) exists which modifies the causal graph as:\n",
    "\n",
    "<img src=\"fig2-backdoor-path.png\">\n",
    "\n",
    "In this case, the causal path represented in red are backdoor paths which invalidate the previously-defined system of equations. Another way of stating this assumption is that saying we assume all observations of exogenous variables are independentally sampled from an unknown but fixed joint distribution. This is the isolation assumption. Most causal grahs make this assumption, and we might be able to argue practical backdoor paths which are not accounted for because such causes cannot be measured/modeled. It is important to be mindful of this assumption while analyzing results."
   ]
  },
  {
   "cell_type": "markdown",
   "metadata": {},
   "source": [
    "# Counterfactual Analysis\n",
    "Now let's dive in to counterfactual analysis principles and try to answer the question posed above.\n",
    "\n",
    "## What is Counterfactual?\n",
    "\n",
    "The question \"what would happen if we replace a current model M with a new model M'\" is counterfactual in the sense that we are not actually making the change and impacting user experience. We are just trying to estimate business metrics in the scenario if we were to hypothetically deploy the model M'. \n",
    "\n",
    "## Analogy to Traditional ML\n",
    "\n",
    "Let's try to compare this scenario with a traditional supervised learning scenario. While training models in a supervised learning setting, we use some independent variables x and true labels y, then we try to estimate y as y' = f(x). y' is kind of a counterfactual estimate of what would happen if, instead of the system generating the data, the model f(x) was used. Then we define a loss function and optimize the model. All of this works because f(x) is fully defined, which is not the case in our problem (i.e. there is no way to know how a user would have interacted if a different ad would be shown). Thus, we need some work-around so that we can estimate the metric without fully defining each component of the system."
   ]
  },
  {
   "cell_type": "markdown",
   "metadata": {},
   "source": [
    "## Markov Factor Replacement\n",
    "\n",
    "Now let's try to perform algebraic manipulations in our system of equations. Say we have a new model M' for selection of an ad given bids. This will impact just one component of the equation:\n",
    "\n",
    "$$P(a|x,b) -> P'(a|x,b)$$\n",
    "The join distribution of the resulting system will be:\n",
    "$$P'(w) = P(u,v).P(x|u).P(b|x,v).P'(a|x,b).P(y|u,a).P(z|y)$$\n",
    "Note that only the one distribution has changed\n",
    "\n",
    "The click rate of the system can be defined as the expectation of click per impression:\n",
    "\n",
    "$$r = \\int_w yP(w)$$\n",
    "Intuitively, this can be understood as an average of the clicks occuring in different context-action scenarios, represented by w, weighted by the probability distribution of w, which is a function of the user activity and production model M.\n",
    "\n",
    "For a new model M', the click rate would be:\n",
    "\n",
    "$$r' = \\int_{w} yP'(w)$$\n",
    "To determine click rate for a new model M', we can simply adjust the probability distribution using the new model M' given the same inputs from user activity.\n",
    "\n",
    "This can be rewritten as:\n",
    "\n",
    "$$r' = \\int_{w} y\\frac{P'(w)}{P(w)}P(w)$$\n",
    "$$r' = \\int_{w} y\\frac{P'(a|x,b)}{P(a|x,b)}P(w)$$\n",
    "Assuming $P(a|x,b)>0$ throughout the domain of w\n",
    "\n",
    "Using the law of large numbers, we can approximate $r'$ as:\n",
    "$$r' \\approx \\frac{1}{n} \\sum_{i=1}^{n} y_i \\frac{P'(a|x,b)}{P(a|x,b)}$$\n",
    "\n",
    "Observe how we have eliminated most of the components of the system from the final estimate. This is super powerful, because now we don't need to fully define the joint distribution $P'(w)$ for the new model M', but only the parts impacted by the intervention/change, which is typically easy to determine as the intervention is controlled.\n",
    "\n",
    "This idea can be generalized for any given metric $l(w)$, the counterfactual estimate of an offline model M' giving a probability distribution $P'(w)$ can be determined using log data with probability distribution $P(w)$ as:\n",
    "$$r' \\approx \\frac{1}{n} \\sum_{i=1}^{n} l(w_i) \\frac{P'(w)}{P(w)}$$"
   ]
  },
  {
   "cell_type": "markdown",
   "metadata": {},
   "source": [
    "## Intuition\n",
    "Lets try to understand this concept with a small example. Suppose there are 5 data points:\n",
    "\n",
    "| context | p(M) | y | p(M') \n",
    "|------|------|------|------|\n",
    "| w1 | 0.8 | 1 | 0.3 |\n",
    "| w2 | 0.6 | 1 | 0.5 |\n",
    "| w3 | 0.2 | 0 | 0.4 |\n",
    "| w4 | 0.1 | 0 | 0.3 |\n",
    "| w5 | 0.7 | 1 | 0.6 |\n",
    "\n",
    "Here each row is a context where an ad was shown. p(M) is the logged probability of showing the ad by the production model M and p(M') is the probaiblity that an offline model M' will show the same ad. y is the user action, 1 if clicked 0 if not. We can observe that the production model usually has a high probability of showing when the user clicked, hence it's a better model.\n",
    "\n",
    "The estimator will give a similar inference. Whenever there is a show, i.e. $l(w_i)=1$, $P(w)>P'(w)$ hence $r>r'$. Thus, we are able to get back our intuitive ordering of models from the counterfactual estimate.\n",
    "\n",
    "## Constraints / Practical Considerations\n",
    "If we carefully observe the final equation, it puts a constraint on the model being evaluated: the model has to be probabilistic in nature, and we can determine the probability of taking the exact same action which the logging model took, which may not always be trivial. Suppose that we only have the final action a' taken by the new model for each log entry. Then we can also re-write the same equation by taking inspiration from propensity score matching based approaches [2]:\n",
    "\n",
    "$$r' \\approx \\frac{1}{n} \\sum_{i=1}^{n} \\frac{l(w_i)\\ \\mathbb{1}(a' == a) }{P(w)}$$\n",
    "\n",
    "Intuitively, this can be understood as considering the new model to be probabilistic and making $P'(w) = 0$ wherever the new model takes a different action than the logged model. \n",
    "\n",
    "In practice, using the matching approach works if we have a few number of actions and we expect to match a fair number of actions from the logged dataset. However, there are numerous scenarios like recommendation, information retrieval, or multi-arm bandits where we may not have sufficient data to get enough matches for reliable estimates resulting in high variance. Please note that for the sake of simplicity, we will be not be discussing variance considerations in this article, but feel free to read more in [1] [2]."
   ]
  },
  {
   "cell_type": "markdown",
   "metadata": {},
   "source": [
    "# Simulation \n",
    "\n",
    "At this point, hopefully you have developed some some intuitive and mathematical understanding of counterfactual analysis. Let's take it a step further using a similuated example, similar to the one we've been working with. Suppose:\n",
    "- We have 3 ads in inventory, valid for all users\n",
    "- We simulate N number of user contexts, i.e. N different user scenarios, each with an independent click probability on one of the ads\n",
    "- We collect some online data by serving ads randomly to users in different contexts and observing click behavior. Random serving is a good way to collect unbiased online data to evaluate online models and should be adopted when possible."
   ]
  },
  {
   "cell_type": "code",
   "execution_count": 1,
   "metadata": {},
   "outputs": [],
   "source": [
    "import numpy as np\n",
    "import pandas as pd\n",
    "import matplotlib.pylab as plt\n",
    "from uuid import uuid4\n",
    "%matplotlib inline"
   ]
  },
  {
   "cell_type": "markdown",
   "metadata": {},
   "source": [
    "## 1. Data Preparation\n",
    "Let's simulate some logged data which is similar to something coming from a production system.\n",
    "\n",
    "### User Contexts\n",
    "Let's start by defining 10,000 user context (x) ids and define a probability distribution on their occurence, i.e. some contexts are more likely to repeat than others."
   ]
  },
  {
   "cell_type": "code",
   "execution_count": 2,
   "metadata": {},
   "outputs": [],
   "source": [
    "# set user contexts\n",
    "num_contexts = 10000\n",
    "user_contexts = np.asarray([\"context_{}\".format(i) for i in range(num_contexts)])"
   ]
  },
  {
   "cell_type": "code",
   "execution_count": 3,
   "metadata": {},
   "outputs": [
    {
     "data": {
      "image/png": "[encoded data removed]",
      "text/plain": [
       "<Figure size 432x288 with 1 Axes>"
      ]
     },
     "metadata": {
      "needs_background": "light"
     },
     "output_type": "display_data"
    }
   ],
   "source": [
    "# assign selection prior to these contexts\n",
    "def random_normal_sample_sum_to_1(size):\n",
    "    sample = np.random.normal(0, 1, size)\n",
    "    sample_adjusted = sample - sample.min()\n",
    "    return sample_adjusted / sample_adjusted.sum()\n",
    "user_context_selection_prior = random_normal_sample_sum_to_1(num_contexts)\n",
    "plt.hist(user_context_selection_prior, bins=100)\n",
    "assert user_context_selection_prior.sum().round(2) == 1.0"
   ]
  },
  {
   "cell_type": "markdown",
   "metadata": {},
   "source": [
    "### Click Rate Per Context\n",
    "Let's define 3 ads in our inventory. For the sake of simplicity, let's say the click rate for a given ad in a given context can be one of:\n",
    "- Low: 10%\n",
    "- Medium: 40%\n",
    "- High: 60%\n",
    "\n",
    "Then we can randomly assign which of the ads is low/med/high in which context. The idea is that a good model will pick the high-interaction ad in a given context more often than low-interaction ad."
   ]
  },
  {
   "cell_type": "code",
   "execution_count": 4,
   "metadata": {},
   "outputs": [],
   "source": [
    "# set ads\n",
    "num_ads = 3\n",
    "ads = np.asarray([\"ad_{}\".format(i) for i in range(num_ads)])"
   ]
  },
  {
   "cell_type": "code",
   "execution_count": 5,
   "metadata": {},
   "outputs": [],
   "source": [
    "# assign random priors to contexts\n",
    "ad_interaction_priors = np.asarray([0.1, 0.3, 0.6])\n",
    "user_context_priors = {context:np.random.permutation(ad_interaction_priors) for context in user_contexts}"
   ]
  },
  {
   "cell_type": "markdown",
   "metadata": {},
   "source": [
    "## 2. Random Data Collection\n",
    "Now let's simulate 100,000 iterations where one of the 10,000 user contexts is given as input to the model, a random ad is served, and based on the click prior for that ad in that context an action of click or no click is sampled. The idea here is to generate data similar to production logs of any model, the difference being that we are simulating the user side.\n",
    "\n",
    "The simulated data will contain four columns:\n",
    "1. log_id: represents each logged row\n",
    "2. context_id: represents the user context from our list of 10,000 contexts\n",
    "3. selected_ad: the ad shown by the production model\n",
    "4. user_interaction: binary 1 if the user interacted and 0 otherwise"
   ]
  },
  {
   "cell_type": "code",
   "execution_count": 6,
   "metadata": {},
   "outputs": [],
   "source": [
    "num_iterations = 100000"
   ]
  },
  {
   "cell_type": "code",
   "execution_count": 7,
   "metadata": {},
   "outputs": [],
   "source": [
    "# create empty df for storing logs\n",
    "df_random_serving = pd.DataFrame(\n",
    "    columns = [\"log_id\", \"context_id\", \"selected_ad\", \"user_interaction\"]\n",
    ")\n",
    "\n",
    "# create unique ID for each log entry\n",
    "df_random_serving[\"log_id\"] = [uuid4() for _ in range(num_iterations)]\n",
    "\n",
    "# assign a context id to each log entry\n",
    "df_random_serving[\"context_id\"] = np.random.choice(user_contexts, size=num_iterations, replace=True, p=user_context_selection_prior)\n",
    "\n",
    "# randomly sample an ad to show in that context\n",
    "df_random_serving[\"selected_ad\"] = np.random.choice(ads, size=num_iterations, replace=True)"
   ]
  },
  {
   "cell_type": "code",
   "execution_count": 8,
   "metadata": {},
   "outputs": [],
   "source": [
    "# for each log entry, sample an action or click or not using the click probability assigned to the context-ad pair in step 1\n",
    "def sample_action_for_ad(context_id, ad_id):\n",
    "    prior = user_context_priors.get(context_id)[np.where(ads == ad_id)[0][0]]\n",
    "    return np.random.binomial(1, prior)\n",
    "df_random_serving[\"user_interaction\"] = df_random_serving.apply(lambda x: sample_action_for_ad(x[\"context_id\"], x[\"selected_ad\"]), axis=1)"
   ]
  },
  {
   "cell_type": "code",
   "execution_count": 9,
   "metadata": {},
   "outputs": [
    {
     "data": {
      "text/html": [
       "<div>\n",
       "<style scoped>\n",
       "    .dataframe tbody tr th:only-of-type {\n",
       "        vertical-align: middle;\n",
       "    }\n",
       "\n",
       "    .dataframe tbody tr th {\n",
       "        vertical-align: top;\n",
       "    }\n",
       "\n",
       "    .dataframe thead th {\n",
       "        text-align: right;\n",
       "    }\n",
       "</style>\n",
       "<table border=\"1\" class=\"dataframe\">\n",
       "  <thead>\n",
       "    <tr style=\"text-align: right;\">\n",
       "      <th></th>\n",
       "      <th>log_id</th>\n",
       "      <th>context_id</th>\n",
       "      <th>selected_ad</th>\n",
       "      <th>user_interaction</th>\n",
       "    </tr>\n",
       "  </thead>\n",
       "  <tbody>\n",
       "    <tr>\n",
       "      <td>58898</td>\n",
       "      <td>1394c11d-0fb1-4517-8f04-0a6db33cb382</td>\n",
       "      <td>context_4667</td>\n",
       "      <td>ad_1</td>\n",
       "      <td>0</td>\n",
       "    </tr>\n",
       "    <tr>\n",
       "      <td>83132</td>\n",
       "      <td>4d755f03-3491-4a56-bf49-c9e4876858c6</td>\n",
       "      <td>context_1200</td>\n",
       "      <td>ad_0</td>\n",
       "      <td>0</td>\n",
       "    </tr>\n",
       "    <tr>\n",
       "      <td>19167</td>\n",
       "      <td>d60c7cc1-3a3a-4dd3-83eb-e328e4962ee0</td>\n",
       "      <td>context_1080</td>\n",
       "      <td>ad_2</td>\n",
       "      <td>0</td>\n",
       "    </tr>\n",
       "    <tr>\n",
       "      <td>77984</td>\n",
       "      <td>08ea91f4-7adc-4938-b45a-394a8680103e</td>\n",
       "      <td>context_2656</td>\n",
       "      <td>ad_2</td>\n",
       "      <td>0</td>\n",
       "    </tr>\n",
       "    <tr>\n",
       "      <td>95146</td>\n",
       "      <td>f1b3b8ec-f9a3-42a2-afdd-a5ab69868b3a</td>\n",
       "      <td>context_7795</td>\n",
       "      <td>ad_1</td>\n",
       "      <td>1</td>\n",
       "    </tr>\n",
       "    <tr>\n",
       "      <td>43339</td>\n",
       "      <td>dfe2997b-7e43-4a75-b799-d1027a388a90</td>\n",
       "      <td>context_7035</td>\n",
       "      <td>ad_2</td>\n",
       "      <td>0</td>\n",
       "    </tr>\n",
       "    <tr>\n",
       "      <td>20231</td>\n",
       "      <td>59c17bb1-3017-4f0b-b9d2-5c80d725d4f6</td>\n",
       "      <td>context_4727</td>\n",
       "      <td>ad_1</td>\n",
       "      <td>0</td>\n",
       "    </tr>\n",
       "    <tr>\n",
       "      <td>26362</td>\n",
       "      <td>d44ab4bc-297f-4b1c-9a8c-7194f0fd9eab</td>\n",
       "      <td>context_4785</td>\n",
       "      <td>ad_0</td>\n",
       "      <td>0</td>\n",
       "    </tr>\n",
       "    <tr>\n",
       "      <td>72270</td>\n",
       "      <td>1e62f203-f1fb-4003-9899-818e652caa56</td>\n",
       "      <td>context_2784</td>\n",
       "      <td>ad_0</td>\n",
       "      <td>0</td>\n",
       "    </tr>\n",
       "    <tr>\n",
       "      <td>20171</td>\n",
       "      <td>03ff9308-ab23-46cf-aa06-60920c0e85b2</td>\n",
       "      <td>context_6105</td>\n",
       "      <td>ad_0</td>\n",
       "      <td>0</td>\n",
       "    </tr>\n",
       "  </tbody>\n",
       "</table>\n",
       "</div>"
      ],
      "text/plain": [
       "                                     log_id    context_id selected_ad  \\\n",
       "58898  1394c11d-0fb1-4517-8f04-0a6db33cb382  context_4667        ad_1   \n",
       "83132  4d755f03-3491-4a56-bf49-c9e4876858c6  context_1200        ad_0   \n",
       "19167  d60c7cc1-3a3a-4dd3-83eb-e328e4962ee0  context_1080        ad_2   \n",
       "77984  08ea91f4-7adc-4938-b45a-394a8680103e  context_2656        ad_2   \n",
       "95146  f1b3b8ec-f9a3-42a2-afdd-a5ab69868b3a  context_7795        ad_1   \n",
       "43339  dfe2997b-7e43-4a75-b799-d1027a388a90  context_7035        ad_2   \n",
       "20231  59c17bb1-3017-4f0b-b9d2-5c80d725d4f6  context_4727        ad_1   \n",
       "26362  d44ab4bc-297f-4b1c-9a8c-7194f0fd9eab  context_4785        ad_0   \n",
       "72270  1e62f203-f1fb-4003-9899-818e652caa56  context_2784        ad_0   \n",
       "20171  03ff9308-ab23-46cf-aa06-60920c0e85b2  context_6105        ad_0   \n",
       "\n",
       "       user_interaction  \n",
       "58898                 0  \n",
       "83132                 0  \n",
       "19167                 0  \n",
       "77984                 0  \n",
       "95146                 1  \n",
       "43339                 0  \n",
       "20231                 0  \n",
       "26362                 0  \n",
       "72270                 0  \n",
       "20171                 0  "
      ]
     },
     "execution_count": 9,
     "metadata": {},
     "output_type": "execute_result"
    }
   ],
   "source": [
    "# a snapshot of the data\n",
    "df_random_serving.sample(10)"
   ]
  },
  {
   "cell_type": "markdown",
   "metadata": {},
   "source": [
    "To recap, each row in this simulated log data represents an instance where:\n",
    "- a user visited a website with some intent and generated a user context (x) denoted by context_id.\n",
    "- a production model (random in this case) selected an ad to show to the user\n",
    "- the user interaction was observed and logged"
   ]
  },
  {
   "cell_type": "markdown",
   "metadata": {},
   "source": [
    "## 3. New Model Estimation\n",
    "\n",
    "### Define Models\n",
    "\n",
    "Now let's define some models for which we can establish an intuition of order of performance on click rate. This will allow us to simulate offline model predictions, use counterfactual estimation to get metrics, and compare them with expected results. \n",
    "\n",
    "One way to do so is to set priors on the likelihood of picking the low/med/high ad using a vector \\[p_low, p_med, p_high\\] for a given context. We can intuitively say that the models with a higher likelihood of picking more performant ads for a context will work better. Note that this is not how an actual model would work because we wouldn't know the click rate prior; think of these as models which have learned these priors with different levels of accuracy.\n",
    "\n",
    "Here's a group of 10 models with increasing expected performance:"
   ]
  },
  {
   "cell_type": "code",
   "execution_count": 10,
   "metadata": {},
   "outputs": [],
   "source": [
    "new_model_priors = np.atleast_2d([\n",
    "    [0.8, 0.1, 0.1],\n",
    "    [0.7, 0.2, 0.1],\n",
    "    [0.6, 0.2, 0.2],\n",
    "    [0.5, 0.3, 0.2],\n",
    "    [0.5, 0.2, 0.3],\n",
    "    [0.4, 0.3, 0.3],\n",
    "    [0.4, 0.2, 0.4],\n",
    "    [0.3, 0.3, 0.4],\n",
    "    [0.2, 0.35, 0.45],\n",
    "    [0.2, 0.2, 0.6]\n",
    "])"
   ]
  },
  {
   "cell_type": "markdown",
   "metadata": {},
   "source": [
    "For clarification, let's see this as a dataframe:"
   ]
  },
  {
   "cell_type": "code",
   "execution_count": 11,
   "metadata": {},
   "outputs": [
    {
     "data": {
      "text/html": [
       "<div>\n",
       "<style scoped>\n",
       "    .dataframe tbody tr th:only-of-type {\n",
       "        vertical-align: middle;\n",
       "    }\n",
       "\n",
       "    .dataframe tbody tr th {\n",
       "        vertical-align: top;\n",
       "    }\n",
       "\n",
       "    .dataframe thead th {\n",
       "        text-align: right;\n",
       "    }\n",
       "</style>\n",
       "<table border=\"1\" class=\"dataframe\">\n",
       "  <thead>\n",
       "    <tr style=\"text-align: right;\">\n",
       "      <th></th>\n",
       "      <th>model_id</th>\n",
       "      <th>prob_low</th>\n",
       "      <th>prob_med</th>\n",
       "      <th>prob_high</th>\n",
       "    </tr>\n",
       "  </thead>\n",
       "  <tbody>\n",
       "    <tr>\n",
       "      <td>0</td>\n",
       "      <td>model_0</td>\n",
       "      <td>0.8</td>\n",
       "      <td>0.1</td>\n",
       "      <td>0.1</td>\n",
       "    </tr>\n",
       "    <tr>\n",
       "      <td>1</td>\n",
       "      <td>model_1</td>\n",
       "      <td>0.7</td>\n",
       "      <td>0.2</td>\n",
       "      <td>0.1</td>\n",
       "    </tr>\n",
       "    <tr>\n",
       "      <td>2</td>\n",
       "      <td>model_2</td>\n",
       "      <td>0.6</td>\n",
       "      <td>0.2</td>\n",
       "      <td>0.2</td>\n",
       "    </tr>\n",
       "    <tr>\n",
       "      <td>3</td>\n",
       "      <td>model_3</td>\n",
       "      <td>0.5</td>\n",
       "      <td>0.3</td>\n",
       "      <td>0.2</td>\n",
       "    </tr>\n",
       "    <tr>\n",
       "      <td>4</td>\n",
       "      <td>model_4</td>\n",
       "      <td>0.5</td>\n",
       "      <td>0.2</td>\n",
       "      <td>0.3</td>\n",
       "    </tr>\n",
       "    <tr>\n",
       "      <td>5</td>\n",
       "      <td>model_5</td>\n",
       "      <td>0.4</td>\n",
       "      <td>0.3</td>\n",
       "      <td>0.3</td>\n",
       "    </tr>\n",
       "    <tr>\n",
       "      <td>6</td>\n",
       "      <td>model_6</td>\n",
       "      <td>0.4</td>\n",
       "      <td>0.2</td>\n",
       "      <td>0.4</td>\n",
       "    </tr>\n",
       "    <tr>\n",
       "      <td>7</td>\n",
       "      <td>model_7</td>\n",
       "      <td>0.3</td>\n",
       "      <td>0.3</td>\n",
       "      <td>0.4</td>\n",
       "    </tr>\n",
       "    <tr>\n",
       "      <td>8</td>\n",
       "      <td>model_8</td>\n",
       "      <td>0.2</td>\n",
       "      <td>0.35</td>\n",
       "      <td>0.45</td>\n",
       "    </tr>\n",
       "    <tr>\n",
       "      <td>9</td>\n",
       "      <td>model_9</td>\n",
       "      <td>0.2</td>\n",
       "      <td>0.2</td>\n",
       "      <td>0.6</td>\n",
       "    </tr>\n",
       "  </tbody>\n",
       "</table>\n",
       "</div>"
      ],
      "text/plain": [
       "  model_id prob_low prob_med prob_high\n",
       "0  model_0      0.8      0.1       0.1\n",
       "1  model_1      0.7      0.2       0.1\n",
       "2  model_2      0.6      0.2       0.2\n",
       "3  model_3      0.5      0.3       0.2\n",
       "4  model_4      0.5      0.2       0.3\n",
       "5  model_5      0.4      0.3       0.3\n",
       "6  model_6      0.4      0.2       0.4\n",
       "7  model_7      0.3      0.3       0.4\n",
       "8  model_8      0.2     0.35      0.45\n",
       "9  model_9      0.2      0.2       0.6"
      ]
     },
     "execution_count": 11,
     "metadata": {},
     "output_type": "execute_result"
    }
   ],
   "source": [
    "new_model_names = np.asarray([\"model_{}\".format(i) for i in range(new_model_priors.shape[0])])\n",
    "pd.DataFrame(\n",
    "    data=np.hstack([np.atleast_2d(new_model_names).T, new_model_priors]),\n",
    "    columns=[\"model_id\", \"prob_low\", \"prob_med\", \"prob_high\"]\n",
    ")"
   ]
  },
  {
   "cell_type": "markdown",
   "metadata": {},
   "source": [
    "One nice feature of defining a model in this way is that we can actually calculate the expected click rate of each model. Since a model is a set of priors on picking a low/med/high ad, and we have already fixed the interaction rates of low/med/high ads, we can just take a dot product to estimate the click rate:"
   ]
  },
  {
   "cell_type": "code",
   "execution_count": 12,
   "metadata": {},
   "outputs": [
    {
     "data": {
      "text/plain": [
       "array([0.17 , 0.19 , 0.24 , 0.26 , 0.29 , 0.31 , 0.34 , 0.36 , 0.395,\n",
       "       0.44 ])"
      ]
     },
     "execution_count": 12,
     "metadata": {},
     "output_type": "execute_result"
    }
   ],
   "source": [
    "# expected interaction rate:\n",
    "expected_interaction_rates = np.dot(new_model_priors, np.atleast_2d(ad_interaction_priors).T)\n",
    "expected_interaction_rates.ravel()"
   ]
  },
  {
   "cell_type": "markdown",
   "metadata": {},
   "source": [
    "We can see that expected click rates are in the order that we expect. Now we'll try to sample ad selections using each policy and use the counterfactual technique learned above to see if we can estimate these click rates using only the logged data and sampled outcomes from each model"
   ]
  },
  {
   "cell_type": "markdown",
   "metadata": {},
   "source": [
    "### Estimate Click Rate: Propensity Matching\n",
    "\n",
    "First, let's use the propensity matching estimate:\n",
    "$$r' \\approx \\frac{1}{n} \\sum_{i=1}^{n} \\frac{y_i\\ \\mathbb{1}(a' == a) }{P(w)}$$\n",
    "where:\n",
    "- $y_i$: user interaction\n",
    "- $a'$: action suggested by new model\n",
    "- $a$: action taking by production model\n",
    "- $P(a|x,b)$: logged probability of the production model (random serving)"
   ]
  },
  {
   "cell_type": "code",
   "execution_count": 13,
   "metadata": {},
   "outputs": [],
   "source": [
    "# use the same context ids as logged data:\n",
    "df_new_models_matching = df_random_serving.copy()"
   ]
  },
  {
   "cell_type": "code",
   "execution_count": 14,
   "metadata": {},
   "outputs": [],
   "source": [
    "def sample_ad_for_context_n_model(context_id, model_priors):\n",
    "    # get ad interaction priors for the given context\n",
    "    interaction_priors = user_context_priors.get(context_id)\n",
    "    \n",
    "    # get the selection prior for the given model based on interaction priors\n",
    "    selection_priors = model_priors[np.argsort(np.argsort(interaction_priors))]\n",
    "    \n",
    "    # select an ad using the priors and log the selection probability\n",
    "    selected_ad = np.random.choice(ads, None, replace=False, p=selection_priors)\n",
    "#     selected_ad_prior = selection_priors[ads.tolist().index(selected_ad)]\n",
    "    return selected_ad\n",
    "\n",
    "for policy_name, model_prior in zip(new_model_names, new_model_priors):\n",
    "    df_new_models_matching.loc[:, policy_name] = df_new_models_matching[\"context_id\"].apply(lambda x: sample_ad_for_context_n_model(x, model_prior))"
   ]
  },
  {
   "cell_type": "code",
   "execution_count": 15,
   "metadata": {},
   "outputs": [
    {
     "data": {
      "text/html": [
       "<div>\n",
       "<style scoped>\n",
       "    .dataframe tbody tr th:only-of-type {\n",
       "        vertical-align: middle;\n",
       "    }\n",
       "\n",
       "    .dataframe tbody tr th {\n",
       "        vertical-align: top;\n",
       "    }\n",
       "\n",
       "    .dataframe thead th {\n",
       "        text-align: right;\n",
       "    }\n",
       "</style>\n",
       "<table border=\"1\" class=\"dataframe\">\n",
       "  <thead>\n",
       "    <tr style=\"text-align: right;\">\n",
       "      <th></th>\n",
       "      <th>log_id</th>\n",
       "      <th>context_id</th>\n",
       "      <th>selected_ad</th>\n",
       "      <th>user_interaction</th>\n",
       "      <th>model_0</th>\n",
       "      <th>model_1</th>\n",
       "      <th>model_2</th>\n",
       "      <th>model_3</th>\n",
       "      <th>model_4</th>\n",
       "      <th>model_5</th>\n",
       "      <th>model_6</th>\n",
       "      <th>model_7</th>\n",
       "      <th>model_8</th>\n",
       "      <th>model_9</th>\n",
       "    </tr>\n",
       "  </thead>\n",
       "  <tbody>\n",
       "    <tr>\n",
       "      <td>7084</td>\n",
       "      <td>192d9c87-3dc4-4e42-9326-967424fcdd44</td>\n",
       "      <td>context_7614</td>\n",
       "      <td>ad_2</td>\n",
       "      <td>0</td>\n",
       "      <td>ad_2</td>\n",
       "      <td>ad_2</td>\n",
       "      <td>ad_1</td>\n",
       "      <td>ad_2</td>\n",
       "      <td>ad_2</td>\n",
       "      <td>ad_1</td>\n",
       "      <td>ad_0</td>\n",
       "      <td>ad_1</td>\n",
       "      <td>ad_1</td>\n",
       "      <td>ad_1</td>\n",
       "    </tr>\n",
       "    <tr>\n",
       "      <td>5455</td>\n",
       "      <td>24db9e00-4caf-42f6-b1cf-85bbaee85850</td>\n",
       "      <td>context_5651</td>\n",
       "      <td>ad_2</td>\n",
       "      <td>0</td>\n",
       "      <td>ad_1</td>\n",
       "      <td>ad_1</td>\n",
       "      <td>ad_2</td>\n",
       "      <td>ad_0</td>\n",
       "      <td>ad_0</td>\n",
       "      <td>ad_2</td>\n",
       "      <td>ad_2</td>\n",
       "      <td>ad_1</td>\n",
       "      <td>ad_1</td>\n",
       "      <td>ad_2</td>\n",
       "    </tr>\n",
       "    <tr>\n",
       "      <td>67259</td>\n",
       "      <td>79327ad7-a240-4ebe-aa66-9e915272bbcc</td>\n",
       "      <td>context_8476</td>\n",
       "      <td>ad_0</td>\n",
       "      <td>0</td>\n",
       "      <td>ad_2</td>\n",
       "      <td>ad_0</td>\n",
       "      <td>ad_1</td>\n",
       "      <td>ad_2</td>\n",
       "      <td>ad_0</td>\n",
       "      <td>ad_1</td>\n",
       "      <td>ad_0</td>\n",
       "      <td>ad_1</td>\n",
       "      <td>ad_2</td>\n",
       "      <td>ad_2</td>\n",
       "    </tr>\n",
       "    <tr>\n",
       "      <td>67292</td>\n",
       "      <td>8d05a652-bdcf-44d3-9fd5-e9aebc6bba60</td>\n",
       "      <td>context_6875</td>\n",
       "      <td>ad_1</td>\n",
       "      <td>0</td>\n",
       "      <td>ad_2</td>\n",
       "      <td>ad_2</td>\n",
       "      <td>ad_2</td>\n",
       "      <td>ad_0</td>\n",
       "      <td>ad_2</td>\n",
       "      <td>ad_2</td>\n",
       "      <td>ad_0</td>\n",
       "      <td>ad_2</td>\n",
       "      <td>ad_0</td>\n",
       "      <td>ad_2</td>\n",
       "    </tr>\n",
       "    <tr>\n",
       "      <td>92141</td>\n",
       "      <td>81e2c4fe-bdd1-4241-8782-84253731832f</td>\n",
       "      <td>context_2931</td>\n",
       "      <td>ad_1</td>\n",
       "      <td>0</td>\n",
       "      <td>ad_0</td>\n",
       "      <td>ad_0</td>\n",
       "      <td>ad_1</td>\n",
       "      <td>ad_1</td>\n",
       "      <td>ad_2</td>\n",
       "      <td>ad_2</td>\n",
       "      <td>ad_1</td>\n",
       "      <td>ad_2</td>\n",
       "      <td>ad_0</td>\n",
       "      <td>ad_2</td>\n",
       "    </tr>\n",
       "  </tbody>\n",
       "</table>\n",
       "</div>"
      ],
      "text/plain": [
       "                                     log_id    context_id selected_ad  \\\n",
       "7084   192d9c87-3dc4-4e42-9326-967424fcdd44  context_7614        ad_2   \n",
       "5455   24db9e00-4caf-42f6-b1cf-85bbaee85850  context_5651        ad_2   \n",
       "67259  79327ad7-a240-4ebe-aa66-9e915272bbcc  context_8476        ad_0   \n",
       "67292  8d05a652-bdcf-44d3-9fd5-e9aebc6bba60  context_6875        ad_1   \n",
       "92141  81e2c4fe-bdd1-4241-8782-84253731832f  context_2931        ad_1   \n",
       "\n",
       "       user_interaction model_0 model_1 model_2 model_3 model_4 model_5  \\\n",
       "7084                  0    ad_2    ad_2    ad_1    ad_2    ad_2    ad_1   \n",
       "5455                  0    ad_1    ad_1    ad_2    ad_0    ad_0    ad_2   \n",
       "67259                 0    ad_2    ad_0    ad_1    ad_2    ad_0    ad_1   \n",
       "67292                 0    ad_2    ad_2    ad_2    ad_0    ad_2    ad_2   \n",
       "92141                 0    ad_0    ad_0    ad_1    ad_1    ad_2    ad_2   \n",
       "\n",
       "      model_6 model_7 model_8 model_9  \n",
       "7084     ad_0    ad_1    ad_1    ad_1  \n",
       "5455     ad_2    ad_1    ad_1    ad_2  \n",
       "67259    ad_0    ad_1    ad_2    ad_2  \n",
       "67292    ad_0    ad_2    ad_0    ad_2  \n",
       "92141    ad_1    ad_2    ad_0    ad_2  "
      ]
     },
     "execution_count": 15,
     "metadata": {},
     "output_type": "execute_result"
    }
   ],
   "source": [
    "df_new_models_matching.sample(5)"
   ]
  },
  {
   "cell_type": "markdown",
   "metadata": {},
   "source": [
    "We can see that for each log entry we've computed the ad selection from all new models."
   ]
  },
  {
   "cell_type": "code",
   "execution_count": 17,
   "metadata": {},
   "outputs": [],
   "source": [
    "# match and estimate:\n",
    "estimates_matching = []\n",
    "for i in range(len(new_model_names)):\n",
    "    model = \"model_{}\".format(i)\n",
    "    matching_mask = (df_new_models_matching[\"selected_ad\"] == df_new_models_matching[model].values).astype(int)\n",
    "    \n",
    "    # the logging policy was random so we know P(w) = 1/3\n",
    "    estimate = (df_new_models_matching[\"user_interaction\"] * matching_mask / 0.333).sum() / df_new_models_matching.shape[0]\n",
    "    estimates_matching.append(estimate)"
   ]
  },
  {
   "cell_type": "code",
   "execution_count": 18,
   "metadata": {},
   "outputs": [
    {
     "data": {
      "image/png": "[encoded data removed]",
      "text/plain": [
       "<Figure size 720x360 with 1 Axes>"
      ]
     },
     "metadata": {
      "needs_background": "light"
     },
     "output_type": "display_data"
    }
   ],
   "source": [
    "plt.figure(figsize=(10,5))\n",
    "plt.plot(expected_interaction_rates, label=\"expected rate\")\n",
    "plt.xticks(range(10), labels=new_model_names, rotation=30)\n",
    "plt.plot(estimates_matching\n",
    "         , label=\"actual rate\")\n",
    "plt.legend()\n",
    "plt.show()"
   ]
  },
  {
   "cell_type": "markdown",
   "metadata": {},
   "source": [
    "### Estimate Click Rate: Propensity Weighting\n",
    "\n",
    "First, let's use the propensity matching estimate:\n",
    "$$r' \\approx \\frac{1}{n} \\sum_{i=1}^{n} y_i \\frac{P'(w) }{P(w)}$$\n",
    "\n",
    "Here:\n",
    "- $y_i$: user interaction\n",
    "- $P'(a|x,b)$: selection probability of the offline model being evaluated\n",
    "- $P(a|x,b)$: logged probability of the production model (random serving)"
   ]
  },
  {
   "cell_type": "code",
   "execution_count": 19,
   "metadata": {},
   "outputs": [],
   "source": [
    "# use the same context ids as logged data:\n",
    "df_new_models_weighting = df_random_serving.copy()"
   ]
  },
  {
   "cell_type": "code",
   "execution_count": 21,
   "metadata": {},
   "outputs": [],
   "source": [
    "def sample_prior_for_context_n_model(context_id, model_priors, selected_ad):\n",
    "    # get ad interaction priors for the given context\n",
    "    interaction_priors = user_context_priors.get(context_id)\n",
    "    \n",
    "    # get the selection prior for the given model based on interaction priors\n",
    "    selection_priors = model_priors[np.argsort(np.argsort(interaction_priors))]\n",
    "    \n",
    "    # get prior of the selected ad\n",
    "    selected_ad_prior = selection_priors[ads.tolist().index(selected_ad)]\n",
    "    return selected_ad_prior\n",
    "\n",
    "for model_name, model_prior in zip(new_model_names, new_model_priors):\n",
    "    df_new_models_weighting.loc[:, model_name] = df_new_models_weighting.apply(lambda x: sample_prior_for_context_n_model(x[\"context_id\"], model_prior, x[\"selected_ad\"]), axis=1)"
   ]
  },
  {
   "cell_type": "code",
   "execution_count": 22,
   "metadata": {},
   "outputs": [
    {
     "data": {
      "text/html": [
       "<div>\n",
       "<style scoped>\n",
       "    .dataframe tbody tr th:only-of-type {\n",
       "        vertical-align: middle;\n",
       "    }\n",
       "\n",
       "    .dataframe tbody tr th {\n",
       "        vertical-align: top;\n",
       "    }\n",
       "\n",
       "    .dataframe thead th {\n",
       "        text-align: right;\n",
       "    }\n",
       "</style>\n",
       "<table border=\"1\" class=\"dataframe\">\n",
       "  <thead>\n",
       "    <tr style=\"text-align: right;\">\n",
       "      <th></th>\n",
       "      <th>log_id</th>\n",
       "      <th>context_id</th>\n",
       "      <th>selected_ad</th>\n",
       "      <th>user_interaction</th>\n",
       "      <th>model_0</th>\n",
       "      <th>model_1</th>\n",
       "      <th>model_2</th>\n",
       "      <th>model_3</th>\n",
       "      <th>model_4</th>\n",
       "      <th>model_5</th>\n",
       "      <th>model_6</th>\n",
       "      <th>model_7</th>\n",
       "      <th>model_8</th>\n",
       "      <th>model_9</th>\n",
       "    </tr>\n",
       "  </thead>\n",
       "  <tbody>\n",
       "    <tr>\n",
       "      <td>57603</td>\n",
       "      <td>34a410fe-ca42-4c33-8306-476705e65eb1</td>\n",
       "      <td>context_8949</td>\n",
       "      <td>ad_1</td>\n",
       "      <td>0</td>\n",
       "      <td>0.8</td>\n",
       "      <td>0.7</td>\n",
       "      <td>0.6</td>\n",
       "      <td>0.5</td>\n",
       "      <td>0.5</td>\n",
       "      <td>0.4</td>\n",
       "      <td>0.4</td>\n",
       "      <td>0.3</td>\n",
       "      <td>0.20</td>\n",
       "      <td>0.2</td>\n",
       "    </tr>\n",
       "    <tr>\n",
       "      <td>39408</td>\n",
       "      <td>303934cf-d3be-4d31-8173-cbfbf48ac205</td>\n",
       "      <td>context_1410</td>\n",
       "      <td>ad_1</td>\n",
       "      <td>0</td>\n",
       "      <td>0.8</td>\n",
       "      <td>0.7</td>\n",
       "      <td>0.6</td>\n",
       "      <td>0.5</td>\n",
       "      <td>0.5</td>\n",
       "      <td>0.4</td>\n",
       "      <td>0.4</td>\n",
       "      <td>0.3</td>\n",
       "      <td>0.20</td>\n",
       "      <td>0.2</td>\n",
       "    </tr>\n",
       "    <tr>\n",
       "      <td>35340</td>\n",
       "      <td>a2e8a13f-91f3-4d93-90e2-13284c86febc</td>\n",
       "      <td>context_5801</td>\n",
       "      <td>ad_1</td>\n",
       "      <td>0</td>\n",
       "      <td>0.1</td>\n",
       "      <td>0.1</td>\n",
       "      <td>0.2</td>\n",
       "      <td>0.2</td>\n",
       "      <td>0.3</td>\n",
       "      <td>0.3</td>\n",
       "      <td>0.4</td>\n",
       "      <td>0.4</td>\n",
       "      <td>0.45</td>\n",
       "      <td>0.6</td>\n",
       "    </tr>\n",
       "    <tr>\n",
       "      <td>15035</td>\n",
       "      <td>ba6fb330-ef2f-4081-83df-f44a8271f16b</td>\n",
       "      <td>context_3822</td>\n",
       "      <td>ad_0</td>\n",
       "      <td>0</td>\n",
       "      <td>0.1</td>\n",
       "      <td>0.1</td>\n",
       "      <td>0.2</td>\n",
       "      <td>0.2</td>\n",
       "      <td>0.3</td>\n",
       "      <td>0.3</td>\n",
       "      <td>0.4</td>\n",
       "      <td>0.4</td>\n",
       "      <td>0.45</td>\n",
       "      <td>0.6</td>\n",
       "    </tr>\n",
       "    <tr>\n",
       "      <td>76126</td>\n",
       "      <td>0250c20f-87be-405f-aed0-820a68b99f08</td>\n",
       "      <td>context_5041</td>\n",
       "      <td>ad_2</td>\n",
       "      <td>0</td>\n",
       "      <td>0.8</td>\n",
       "      <td>0.7</td>\n",
       "      <td>0.6</td>\n",
       "      <td>0.5</td>\n",
       "      <td>0.5</td>\n",
       "      <td>0.4</td>\n",
       "      <td>0.4</td>\n",
       "      <td>0.3</td>\n",
       "      <td>0.20</td>\n",
       "      <td>0.2</td>\n",
       "    </tr>\n",
       "  </tbody>\n",
       "</table>\n",
       "</div>"
      ],
      "text/plain": [
       "                                     log_id    context_id selected_ad  \\\n",
       "57603  34a410fe-ca42-4c33-8306-476705e65eb1  context_8949        ad_1   \n",
       "39408  303934cf-d3be-4d31-8173-cbfbf48ac205  context_1410        ad_1   \n",
       "35340  a2e8a13f-91f3-4d93-90e2-13284c86febc  context_5801        ad_1   \n",
       "15035  ba6fb330-ef2f-4081-83df-f44a8271f16b  context_3822        ad_0   \n",
       "76126  0250c20f-87be-405f-aed0-820a68b99f08  context_5041        ad_2   \n",
       "\n",
       "       user_interaction  model_0  model_1  model_2  model_3  model_4  model_5  \\\n",
       "57603                 0      0.8      0.7      0.6      0.5      0.5      0.4   \n",
       "39408                 0      0.8      0.7      0.6      0.5      0.5      0.4   \n",
       "35340                 0      0.1      0.1      0.2      0.2      0.3      0.3   \n",
       "15035                 0      0.1      0.1      0.2      0.2      0.3      0.3   \n",
       "76126                 0      0.8      0.7      0.6      0.5      0.5      0.4   \n",
       "\n",
       "       model_6  model_7  model_8  model_9  \n",
       "57603      0.4      0.3     0.20      0.2  \n",
       "39408      0.4      0.3     0.20      0.2  \n",
       "35340      0.4      0.4     0.45      0.6  \n",
       "15035      0.4      0.4     0.45      0.6  \n",
       "76126      0.4      0.3     0.20      0.2  "
      ]
     },
     "execution_count": 22,
     "metadata": {},
     "output_type": "execute_result"
    }
   ],
   "source": [
    "df_new_models_weighting.sample(5)"
   ]
  },
  {
   "cell_type": "markdown",
   "metadata": {},
   "source": [
    "We can see that for each log entry, we've computed the probability of the same ad selection as production model from all new models."
   ]
  },
  {
   "cell_type": "code",
   "execution_count": 23,
   "metadata": {},
   "outputs": [],
   "source": [
    "# match and estimate:\n",
    "estimates_weighting = []\n",
    "for i in range(len(new_model_names)):\n",
    "    model = \"model_{}\".format(i)\n",
    "    \n",
    "    # the logging policy was random so we know P(w) = 1/3\n",
    "    estimate = (df_new_models_weighting[\"user_interaction\"] * df_new_models_weighting[model] / 0.333).sum() / df_new_models_weighting.shape[0]\n",
    "    estimates_weighting.append(estimate)"
   ]
  },
  {
   "cell_type": "code",
   "execution_count": 24,
   "metadata": {},
   "outputs": [
    {
     "data": {
      "image/png": "[encoded data removed]",
      "text/plain": [
       "<Figure size 720x360 with 1 Axes>"
      ]
     },
     "metadata": {
      "needs_background": "light"
     },
     "output_type": "display_data"
    }
   ],
   "source": [
    "plt.figure(figsize=(10,5))\n",
    "plt.plot(expected_interaction_rates, label=\"expected rate\")\n",
    "plt.xticks(range(10), labels=new_model_names, rotation=30)\n",
    "plt.plot(estimates_weighting, label=\"actual rate\")\n",
    "plt.legend()\n",
    "plt.show()"
   ]
  },
  {
   "cell_type": "markdown",
   "metadata": {},
   "source": [
    "# Conclusion\n",
    "We saw that in case of both of the estimators, we were able to estimate the right click rate for each model. In other words, had we not known the actual order of performance of each model, this technique would help us pick the right model just from the predicted outcomes of each model on the logged entries. It is important to note that in this simulated example, we were able to retrieve the exact click rates. In practice, however, there could be various sources of noise and we may not get the exact numbers back. However, we could aim for three properties, in order of increasing importance, when evaluating offline evaluation methodologies:\n",
    "1. Directionality:\n",
    "    - if online metric for model A > model B, then the counterfactual metric for model A > model B. \n",
    "2. Rate of Change:\n",
    "   - if online metric for model A is 10% more than model B, then the counterfactual metric is also higher by similar amount\n",
    "3. Exact Values:\n",
    "    - the online and counterfactual metrics are very close in absolute value, like our example (this is ideal case)\n",
    "\n",
    "Did you find this helpful? Can you think of scenarios in your daily job where this technique could be useful? Do you see any limitations of this approach not highlighted here? Feel free to drop comments with feedback/criticism/questions; I would love to discuss more."
   ]
  },
  {
   "cell_type": "markdown",
   "metadata": {},
   "source": [
    "# References / Additional Reading\n",
    "\n",
    "This article is heavily inflenced by [1] and [2]. If you are interested in digging further, [3] [4] [5] are interesting reads with more applications of similar context\n",
    "\n",
    "1. [Counterfactual Reasoning & Learning Systems](https://arxiv.org/abs/1209.2355)\n",
    "2. [Counterfactual Estimation and Optimization of Click Metrics for Search Engines](https://arxiv.org/abs/1403.1891)\n",
    "3. [The Self-Normalized Estimator for Counterfactual Learning](https://papers.nips.cc/paper/5748-the-self-normalized-estimator-for-counterfactual-learning)\n",
    "4. [Unbiased Offline Evaluation of Contextual-bandit-based News Article Recommendation Algorithms](https://arxiv.org/abs/1003.5956)\n",
    "5. [Off-policy evaluation for slate recommendation](https://arxiv.org/abs/1605.04812)"
   ]
  }
 ],
 "metadata": {
  "kernelspec": {
   "display_name": "Python 3",
   "language": "python",
   "name": "python3"
  },
  "language_info": {
   "codemirror_mode": {
    "name": "ipython",
    "version": 3
   },
   "file_extension": ".py",
   "mimetype": "text/x-python",
   "name": "python",
   "nbconvert_exporter": "python",
   "pygments_lexer": "ipython3",
   "version": "3.7.4"
  }
 },
 "nbformat": 4,
 "nbformat_minor": 4
}
