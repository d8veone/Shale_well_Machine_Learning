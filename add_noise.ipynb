{
 "nbformat": 4,
 "nbformat_minor": 2,
 "metadata": {
  "language_info": {
   "name": "python",
   "codemirror_mode": {
    "name": "ipython",
    "version": 3
   },
   "version": "3.5.2-final"
  },
  "orig_nbformat": 2,
  "file_extension": ".py",
  "mimetype": "text/x-python",
  "name": "python",
  "npconvert_exporter": "python",
  "pygments_lexer": "ipython3",
  "version": 3,
  "kernelspec": {
   "name": "python35232bite12e7ed4c4f3461782aa7f9ffe96ed84",
   "display_name": "Python 3.5.2 32-bit"
  }
 },
 "cells": [
  {
   "source": [
    "import pandas as pd"
   ],
   "cell_type": "code",
   "outputs": [],
   "metadata": {},
   "execution_count": 1
  },
  {
   "source": [
    "df=pd.read_csv('simple_well_jan09_2020.csv')"
   ],
   "cell_type": "code",
   "outputs": [],
   "metadata": {},
   "execution_count": 2
  },
  {
   "source": [
    "df.head()"
   ],
   "cell_type": "code",
   "outputs": [
    {
     "output_type": "execute_result",
     "data": {
      "text/plain": "       Date  Gas Flow_MMSCFD  Oil_bpd   Water_bpd  FWHP_psig  Temperature_F  \\\n0  1/1/2020              2.0     480.0     4500.0     5600.0            230   \n1  1/2/2020              2.0     480.0     3450.0     5500.0            230   \n2  1/3/2020              2.0     480.0     3000.0     5400.0            230   \n3  1/4/2020              2.0     479.0     2500.0     5300.0            230   \n4  1/5/2020              2.0     479.0     2000.0     5200.0            230   \n\n   FlowPatternGasLiquid2  FroudeNumberGas2  FroudeNumberLiquid2  \\\n0                    9.0               0.0                 0.81   \n1                    9.0               0.0                 0.67   \n2                    9.0               0.0                 0.61   \n3                    9.0               0.0                 0.55   \n4                    9.0               0.0                 0.48   \n\n   HoldupFractionLiquid2     ...      HoldupFractionLiquid6    Pressure6  \\\n0                    1.0     ...                   0.845727  3445.338441   \n1                    1.0     ...                   0.817304  3433.193097   \n2                    1.0     ...                   0.797930  3384.746091   \n3                    1.0     ...                   0.774212  3352.099809   \n4                    1.0     ...                   0.747499  3334.709232   \n\n   ReynoldsNumber6  SuperficialVelocityGas6  SuperficialVelocityLiquid6  \\\n0      409800.7890                 0.510384                    2.641022   \n1      334632.3328                 0.507737                    2.124772   \n2      303566.9168                 0.517678                    1.900507   \n3      268085.3347                 0.522150                    1.652199   \n4      231149.3853                 0.519421                    1.406630   \n\n   SurfaceTensionLiquidInSitu6  Temperature6  ViscosityLiquidInSitu6  \\\n0                     0.013319    218.224244                0.273293   \n1                     0.012765    215.654655                0.275990   \n2                     0.012747    214.077168                0.277711   \n3                     0.012434    211.823424                0.280040   \n4                     0.011781    208.753765                0.283581   \n\n   FINAL PRESS  FINAL TEMP  \n0  2126.376735  212.370290  \n1  2177.457559  208.752810  \n2  2168.102001  206.531840  \n3  2183.207951  203.401306  \n4  2220.778037  199.208880  \n\n[5 rows x 30 columns]",
      "text/html": "<div>\n<style>\n    .dataframe thead tr:only-child th {\n        text-align: right;\n    }\n\n    .dataframe thead th {\n        text-align: left;\n    }\n\n    .dataframe tbody tr th {\n        vertical-align: top;\n    }\n</style>\n<table border=\"1\" class=\"dataframe\">\n  <thead>\n    <tr style=\"text-align: right;\">\n      <th></th>\n      <th>Date</th>\n      <th>Gas Flow_MMSCFD</th>\n      <th>Oil_bpd</th>\n      <th>Water_bpd</th>\n      <th>FWHP_psig</th>\n      <th>Temperature_F</th>\n      <th>FlowPatternGasLiquid2</th>\n      <th>FroudeNumberGas2</th>\n      <th>FroudeNumberLiquid2</th>\n      <th>HoldupFractionLiquid2</th>\n      <th>...</th>\n      <th>HoldupFractionLiquid6</th>\n      <th>Pressure6</th>\n      <th>ReynoldsNumber6</th>\n      <th>SuperficialVelocityGas6</th>\n      <th>SuperficialVelocityLiquid6</th>\n      <th>SurfaceTensionLiquidInSitu6</th>\n      <th>Temperature6</th>\n      <th>ViscosityLiquidInSitu6</th>\n      <th>FINAL PRESS</th>\n      <th>FINAL TEMP</th>\n    </tr>\n  </thead>\n  <tbody>\n    <tr>\n      <th>0</th>\n      <td>1/1/2020</td>\n      <td>2.0</td>\n      <td>480.0</td>\n      <td>4500.0</td>\n      <td>5600.0</td>\n      <td>230</td>\n      <td>9.0</td>\n      <td>0.0</td>\n      <td>0.81</td>\n      <td>1.0</td>\n      <td>...</td>\n      <td>0.845727</td>\n      <td>3445.338441</td>\n      <td>409800.7890</td>\n      <td>0.510384</td>\n      <td>2.641022</td>\n      <td>0.013319</td>\n      <td>218.224244</td>\n      <td>0.273293</td>\n      <td>2126.376735</td>\n      <td>212.370290</td>\n    </tr>\n    <tr>\n      <th>1</th>\n      <td>1/2/2020</td>\n      <td>2.0</td>\n      <td>480.0</td>\n      <td>3450.0</td>\n      <td>5500.0</td>\n      <td>230</td>\n      <td>9.0</td>\n      <td>0.0</td>\n      <td>0.67</td>\n      <td>1.0</td>\n      <td>...</td>\n      <td>0.817304</td>\n      <td>3433.193097</td>\n      <td>334632.3328</td>\n      <td>0.507737</td>\n      <td>2.124772</td>\n      <td>0.012765</td>\n      <td>215.654655</td>\n      <td>0.275990</td>\n      <td>2177.457559</td>\n      <td>208.752810</td>\n    </tr>\n    <tr>\n      <th>2</th>\n      <td>1/3/2020</td>\n      <td>2.0</td>\n      <td>480.0</td>\n      <td>3000.0</td>\n      <td>5400.0</td>\n      <td>230</td>\n      <td>9.0</td>\n      <td>0.0</td>\n      <td>0.61</td>\n      <td>1.0</td>\n      <td>...</td>\n      <td>0.797930</td>\n      <td>3384.746091</td>\n      <td>303566.9168</td>\n      <td>0.517678</td>\n      <td>1.900507</td>\n      <td>0.012747</td>\n      <td>214.077168</td>\n      <td>0.277711</td>\n      <td>2168.102001</td>\n      <td>206.531840</td>\n    </tr>\n    <tr>\n      <th>3</th>\n      <td>1/4/2020</td>\n      <td>2.0</td>\n      <td>479.0</td>\n      <td>2500.0</td>\n      <td>5300.0</td>\n      <td>230</td>\n      <td>9.0</td>\n      <td>0.0</td>\n      <td>0.55</td>\n      <td>1.0</td>\n      <td>...</td>\n      <td>0.774212</td>\n      <td>3352.099809</td>\n      <td>268085.3347</td>\n      <td>0.522150</td>\n      <td>1.652199</td>\n      <td>0.012434</td>\n      <td>211.823424</td>\n      <td>0.280040</td>\n      <td>2183.207951</td>\n      <td>203.401306</td>\n    </tr>\n    <tr>\n      <th>4</th>\n      <td>1/5/2020</td>\n      <td>2.0</td>\n      <td>479.0</td>\n      <td>2000.0</td>\n      <td>5200.0</td>\n      <td>230</td>\n      <td>9.0</td>\n      <td>0.0</td>\n      <td>0.48</td>\n      <td>1.0</td>\n      <td>...</td>\n      <td>0.747499</td>\n      <td>3334.709232</td>\n      <td>231149.3853</td>\n      <td>0.519421</td>\n      <td>1.406630</td>\n      <td>0.011781</td>\n      <td>208.753765</td>\n      <td>0.283581</td>\n      <td>2220.778037</td>\n      <td>199.208880</td>\n    </tr>\n  </tbody>\n</table>\n<p>5 rows × 30 columns</p>\n</div>"
     },
     "metadata": {},
     "execution_count": 3
    }
   ],
   "metadata": {},
   "execution_count": 3
  },
  {
   "source": [
    "df1=df.iloc[:, 0:6]"
   ],
   "cell_type": "code",
   "outputs": [],
   "metadata": {},
   "execution_count": 30
  },
  {
   "source": [
    "df1.head()"
   ],
   "cell_type": "code",
   "outputs": [
    {
     "output_type": "execute_result",
     "data": {
      "text/plain": "       Date  Gas Flow_MMSCFD  Oil_bpd   Water_bpd  FWHP_psig  Temperature_F\n0  1/1/2020              2.0     480.0     4500.0     5600.0            230\n1  1/2/2020              2.0     480.0     3450.0     5500.0            230\n2  1/3/2020              2.0     480.0     3000.0     5400.0            230\n3  1/4/2020              2.0     479.0     2500.0     5300.0            230\n4  1/5/2020              2.0     479.0     2000.0     5200.0            230",
      "text/html": "<div>\n<style>\n    .dataframe thead tr:only-child th {\n        text-align: right;\n    }\n\n    .dataframe thead th {\n        text-align: left;\n    }\n\n    .dataframe tbody tr th {\n        vertical-align: top;\n    }\n</style>\n<table border=\"1\" class=\"dataframe\">\n  <thead>\n    <tr style=\"text-align: right;\">\n      <th></th>\n      <th>Date</th>\n      <th>Gas Flow_MMSCFD</th>\n      <th>Oil_bpd</th>\n      <th>Water_bpd</th>\n      <th>FWHP_psig</th>\n      <th>Temperature_F</th>\n    </tr>\n  </thead>\n  <tbody>\n    <tr>\n      <th>0</th>\n      <td>1/1/2020</td>\n      <td>2.0</td>\n      <td>480.0</td>\n      <td>4500.0</td>\n      <td>5600.0</td>\n      <td>230</td>\n    </tr>\n    <tr>\n      <th>1</th>\n      <td>1/2/2020</td>\n      <td>2.0</td>\n      <td>480.0</td>\n      <td>3450.0</td>\n      <td>5500.0</td>\n      <td>230</td>\n    </tr>\n    <tr>\n      <th>2</th>\n      <td>1/3/2020</td>\n      <td>2.0</td>\n      <td>480.0</td>\n      <td>3000.0</td>\n      <td>5400.0</td>\n      <td>230</td>\n    </tr>\n    <tr>\n      <th>3</th>\n      <td>1/4/2020</td>\n      <td>2.0</td>\n      <td>479.0</td>\n      <td>2500.0</td>\n      <td>5300.0</td>\n      <td>230</td>\n    </tr>\n    <tr>\n      <th>4</th>\n      <td>1/5/2020</td>\n      <td>2.0</td>\n      <td>479.0</td>\n      <td>2000.0</td>\n      <td>5200.0</td>\n      <td>230</td>\n    </tr>\n  </tbody>\n</table>\n</div>"
     },
     "metadata": {},
     "execution_count": 31
    }
   ],
   "metadata": {},
   "execution_count": 31
  },
  {
   "source": [
    "df2=df1"
   ],
   "cell_type": "code",
   "outputs": [],
   "metadata": {},
   "execution_count": 32
  },
  {
   "source": [
    "df2.head()"
   ],
   "cell_type": "code",
   "outputs": [
    {
     "output_type": "execute_result",
     "data": {
      "text/plain": "       Date  Gas Flow_MMSCFD  Oil_bpd   Water_bpd  FWHP_psig  Temperature_F\n0  1/1/2020              2.0     480.0     4500.0     5600.0            230\n1  1/2/2020              2.0     480.0     3450.0     5500.0            230\n2  1/3/2020              2.0     480.0     3000.0     5400.0            230\n3  1/4/2020              2.0     479.0     2500.0     5300.0            230\n4  1/5/2020              2.0     479.0     2000.0     5200.0            230",
      "text/html": "<div>\n<style>\n    .dataframe thead tr:only-child th {\n        text-align: right;\n    }\n\n    .dataframe thead th {\n        text-align: left;\n    }\n\n    .dataframe tbody tr th {\n        vertical-align: top;\n    }\n</style>\n<table border=\"1\" class=\"dataframe\">\n  <thead>\n    <tr style=\"text-align: right;\">\n      <th></th>\n      <th>Date</th>\n      <th>Gas Flow_MMSCFD</th>\n      <th>Oil_bpd</th>\n      <th>Water_bpd</th>\n      <th>FWHP_psig</th>\n      <th>Temperature_F</th>\n    </tr>\n  </thead>\n  <tbody>\n    <tr>\n      <th>0</th>\n      <td>1/1/2020</td>\n      <td>2.0</td>\n      <td>480.0</td>\n      <td>4500.0</td>\n      <td>5600.0</td>\n      <td>230</td>\n    </tr>\n    <tr>\n      <th>1</th>\n      <td>1/2/2020</td>\n      <td>2.0</td>\n      <td>480.0</td>\n      <td>3450.0</td>\n      <td>5500.0</td>\n      <td>230</td>\n    </tr>\n    <tr>\n      <th>2</th>\n      <td>1/3/2020</td>\n      <td>2.0</td>\n      <td>480.0</td>\n      <td>3000.0</td>\n      <td>5400.0</td>\n      <td>230</td>\n    </tr>\n    <tr>\n      <th>3</th>\n      <td>1/4/2020</td>\n      <td>2.0</td>\n      <td>479.0</td>\n      <td>2500.0</td>\n      <td>5300.0</td>\n      <td>230</td>\n    </tr>\n    <tr>\n      <th>4</th>\n      <td>1/5/2020</td>\n      <td>2.0</td>\n      <td>479.0</td>\n      <td>2000.0</td>\n      <td>5200.0</td>\n      <td>230</td>\n    </tr>\n  </tbody>\n</table>\n</div>"
     },
     "metadata": {},
     "execution_count": 33
    }
   ],
   "metadata": {},
   "execution_count": 33
  },
  {
   "source": [
    "import random"
   ],
   "cell_type": "code",
   "outputs": [],
   "metadata": {},
   "execution_count": 34
  },
  {
   "source": [
    "df2[\"Gas Flow_MMSCFD\"]=df1[\"Gas Flow_MMSCFD\"].apply(lambda x: x+random.randint(-10,10)*0.02)"
   ],
   "cell_type": "code",
   "outputs": [],
   "metadata": {},
   "execution_count": 37
  },
  {
   "source": [
    "df2.head()"
   ],
   "cell_type": "code",
   "outputs": [
    {
     "output_type": "execute_result",
     "data": {
      "text/plain": "       Date  Gas Flow_MMSCFD  Oil_bpd   Water_bpd  FWHP_psig  Temperature_F\n0  1/1/2020             1.82     480.0     4500.0     5600.0            230\n1  1/2/2020             2.04     480.0     3450.0     5500.0            230\n2  1/3/2020             2.02     480.0     3000.0     5400.0            230\n3  1/4/2020             1.94     479.0     2500.0     5300.0            230\n4  1/5/2020             1.94     479.0     2000.0     5200.0            230",
      "text/html": "<div>\n<style>\n    .dataframe thead tr:only-child th {\n        text-align: right;\n    }\n\n    .dataframe thead th {\n        text-align: left;\n    }\n\n    .dataframe tbody tr th {\n        vertical-align: top;\n    }\n</style>\n<table border=\"1\" class=\"dataframe\">\n  <thead>\n    <tr style=\"text-align: right;\">\n      <th></th>\n      <th>Date</th>\n      <th>Gas Flow_MMSCFD</th>\n      <th>Oil_bpd</th>\n      <th>Water_bpd</th>\n      <th>FWHP_psig</th>\n      <th>Temperature_F</th>\n    </tr>\n  </thead>\n  <tbody>\n    <tr>\n      <th>0</th>\n      <td>1/1/2020</td>\n      <td>1.82</td>\n      <td>480.0</td>\n      <td>4500.0</td>\n      <td>5600.0</td>\n      <td>230</td>\n    </tr>\n    <tr>\n      <th>1</th>\n      <td>1/2/2020</td>\n      <td>2.04</td>\n      <td>480.0</td>\n      <td>3450.0</td>\n      <td>5500.0</td>\n      <td>230</td>\n    </tr>\n    <tr>\n      <th>2</th>\n      <td>1/3/2020</td>\n      <td>2.02</td>\n      <td>480.0</td>\n      <td>3000.0</td>\n      <td>5400.0</td>\n      <td>230</td>\n    </tr>\n    <tr>\n      <th>3</th>\n      <td>1/4/2020</td>\n      <td>1.94</td>\n      <td>479.0</td>\n      <td>2500.0</td>\n      <td>5300.0</td>\n      <td>230</td>\n    </tr>\n    <tr>\n      <th>4</th>\n      <td>1/5/2020</td>\n      <td>1.94</td>\n      <td>479.0</td>\n      <td>2000.0</td>\n      <td>5200.0</td>\n      <td>230</td>\n    </tr>\n  </tbody>\n</table>\n</div>"
     },
     "metadata": {},
     "execution_count": 38
    }
   ],
   "metadata": {},
   "execution_count": 38
  },
  {
   "source": [
    "df2[\"Oil_bpd \"]=df1[\"Oil_bpd \"].apply(lambda x: x+random.randint(-20,30))"
   ],
   "cell_type": "code",
   "outputs": [],
   "metadata": {},
   "execution_count": 45
  },
  {
   "source": [
    "df2[\"Water_bpd\"]=df1[\"Water_bpd\"].apply(lambda x: x+random.randint(-20,30))"
   ],
   "cell_type": "code",
   "outputs": [],
   "metadata": {},
   "execution_count": 46
  },
  {
   "source": [
    "df2[\"FWHP_psig\"]=df1[\"FWHP_psig\"].apply(lambda x: x+random.randint(-50,50))"
   ],
   "cell_type": "code",
   "outputs": [],
   "metadata": {},
   "execution_count": 47
  },
  {
   "source": [
    "df2.head()"
   ],
   "cell_type": "code",
   "outputs": [
    {
     "output_type": "execute_result",
     "data": {
      "text/plain": "       Date  Gas Flow_MMSCFD  Oil_bpd   Water_bpd  FWHP_psig  Temperature_F\n0  1/1/2020             1.82     500.0     4505.0     5592.0            230\n1  1/2/2020             2.04     486.0     3459.0     5486.0            230\n2  1/3/2020             2.02     486.0     2987.0     5442.0            230\n3  1/4/2020             1.94     475.0     2507.0     5290.0            230\n4  1/5/2020             1.94     482.0     2027.0     5247.0            230",
      "text/html": "<div>\n<style>\n    .dataframe thead tr:only-child th {\n        text-align: right;\n    }\n\n    .dataframe thead th {\n        text-align: left;\n    }\n\n    .dataframe tbody tr th {\n        vertical-align: top;\n    }\n</style>\n<table border=\"1\" class=\"dataframe\">\n  <thead>\n    <tr style=\"text-align: right;\">\n      <th></th>\n      <th>Date</th>\n      <th>Gas Flow_MMSCFD</th>\n      <th>Oil_bpd</th>\n      <th>Water_bpd</th>\n      <th>FWHP_psig</th>\n      <th>Temperature_F</th>\n    </tr>\n  </thead>\n  <tbody>\n    <tr>\n      <th>0</th>\n      <td>1/1/2020</td>\n      <td>1.82</td>\n      <td>500.0</td>\n      <td>4505.0</td>\n      <td>5592.0</td>\n      <td>230</td>\n    </tr>\n    <tr>\n      <th>1</th>\n      <td>1/2/2020</td>\n      <td>2.04</td>\n      <td>486.0</td>\n      <td>3459.0</td>\n      <td>5486.0</td>\n      <td>230</td>\n    </tr>\n    <tr>\n      <th>2</th>\n      <td>1/3/2020</td>\n      <td>2.02</td>\n      <td>486.0</td>\n      <td>2987.0</td>\n      <td>5442.0</td>\n      <td>230</td>\n    </tr>\n    <tr>\n      <th>3</th>\n      <td>1/4/2020</td>\n      <td>1.94</td>\n      <td>475.0</td>\n      <td>2507.0</td>\n      <td>5290.0</td>\n      <td>230</td>\n    </tr>\n    <tr>\n      <th>4</th>\n      <td>1/5/2020</td>\n      <td>1.94</td>\n      <td>482.0</td>\n      <td>2027.0</td>\n      <td>5247.0</td>\n      <td>230</td>\n    </tr>\n  </tbody>\n</table>\n</div>"
     },
     "metadata": {},
     "execution_count": 49
    }
   ],
   "metadata": {},
   "execution_count": 49
  },
  {
   "source": [
    "df2.to_csv('simple_well_data with noise.csv')"
   ],
   "cell_type": "code",
   "outputs": [],
   "metadata": {},
   "execution_count": 50
  },
  {
   "cell_type": "code",
   "execution_count": null,
   "metadata": {},
   "outputs": [],
   "source": []
  }
 ]
}